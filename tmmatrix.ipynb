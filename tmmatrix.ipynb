{
 "cells": [
  {
   "cell_type": "markdown",
   "metadata": {},
   "source": [
    "[![Open In Colab](https://colab.research.google.com/assets/colab-badge.svg)](https://colab.research.google.com/github/crfield18/TMmatrix/blob/main/tmmatrix.ipynb)\n"
   ]
  },
  {
   "cell_type": "markdown",
   "metadata": {},
   "source": [
    "# Title\n",
    "put description etc. here"
   ]
  },
  {
   "cell_type": "markdown",
   "metadata": {},
   "source": [
    "##### Install Dependencies"
   ]
  },
  {
   "cell_type": "code",
   "execution_count": null,
   "metadata": {},
   "outputs": [],
   "source": [
    "# @title Set\n",
    "from google.colab import files\n",
    "\n",
    "\n",
    "!mkdir pdbs\n",
    "\n",
    "uploaded = files.upload()"
   ]
  },
  {
   "cell_type": "markdown",
   "metadata": {},
   "source": [
    "##### Calculate TMAlign Matrix"
   ]
  },
  {
   "cell_type": "code",
   "execution_count": null,
   "metadata": {},
   "outputs": [],
   "source": [
    "from itertools import combinations\n",
    "from math import isnan\n",
    "from pathlib import Path\n",
    "import matplotlib.pyplot as plt\n",
    "import numpy as np\n",
    "import pandas as pd\n",
    "from pymol import cmd\n",
    "import psico.fullinit # Needed to add tmalign to PyMOL\n",
    "\n",
    "class TMalignMatrix():\n",
    "    def __init__(self) -> None:\n",
    "        pass\n",
    "\n",
    "    def get_sequence_length(self, object_name):\n",
    "        # Count the number of CA atoms in given object\n",
    "        sequence_length = cmd.count_atoms(f'{object_name} and name CA')\n",
    "        return sequence_length\n",
    "\n",
    "    def load_models(self):\n",
    "        model_list = [model for model, results in self.results.items()]\n",
    "        for model in model_list:\n",
    "            cmd.load(f'{model}.pdb')\n",
    "\n",
    "    def calculate_matrix(self, save_temp:bool):\n",
    "        model_list = [model for model, results in self.results.items()]\n",
    "        self.load_models()\n",
    "\n",
    "        self.show_matrix()\n",
    "\n",
    "        # Calculate TMalign scores for all unique combinations of models\n",
    "            # This would be more efficient if storing values in a list/dict\n",
    "            # Directly updating the dataframe makes the data easier to parse visually\n",
    "            # The real bottleneck here is going to TMalign anyway so I'm leaving it\n",
    "        for pair in combinations(model_list, 2):\n",
    "            print(pair)\n",
    "            if isnan(self.tmmatrix.loc[pair[0], pair[1]]) or isnan(self.tmmatrix.loc[pair[1], pair[0]]):\n",
    "                # Set the smaller object as the reference (target) object\n",
    "                # TMalign scores are normalised based on sequence length\n",
    "                object_1_length = self.get_sequence_length(pair[0])\n",
    "                object_2_length = self.get_sequence_length(pair[1])\n",
    "\n",
    "                if object_1_length >= object_2_length:\n",
    "                    target = pair[1]\n",
    "                    mobile = pair[0]\n",
    "                elif object_1_length < object_2_length:\n",
    "                    target = pair[0]\n",
    "                    mobile = pair[1]\n",
    "                \n",
    "                tm = cmd.tmalign(mobile, target)\n",
    "\n",
    "                self.tmmatrix.loc[pair[0], pair[1]] = tm\n",
    "                self.tmmatrix.loc[pair[1], pair[0]] = tm\n",
    "\n",
    "                self.show_matrix()\n",
    "\n",
    "        # Fill the diagonal with TMscores of 1 (always the score for identical proteins)\n",
    "            # ∴ We do not need to run any calculations\n",
    "        for obj in model_list:\n",
    "            self.tmmatrix.loc[obj,obj] = 1.0\n",
    "        \n",
    "        self.show_matrix()\n",
    "        return self.tmmatrix\n",
    "    \n",
    "    def show_matrix(self):\n",
    "        print(self.tmmatrix)\n",
    "\n",
    "    def get_matrix(self):\n",
    "        return self.tmmatrix\n",
    "    \n",
    "    \n"
   ]
  },
  {
   "cell_type": "markdown",
   "metadata": {},
   "source": [
    "##### Generate Newick-formmated phylogenetic tree"
   ]
  },
  {
   "cell_type": "code",
   "execution_count": null,
   "metadata": {},
   "outputs": [],
   "source": [
    "\n",
    "from Bio import Phylo\n",
    "from Bio.Phylo.TreeConstruction import DistanceTreeConstructor, DistanceMatrix\n",
    "from scipy.spatial.distance import squareform\n",
    "import pandas as pd\n",
    "import numpy as np\n",
    "from math import isnan\n",
    "\n",
    "distances_df = pd.read_csv(tmalign_matrtx_csv, index_col=0)\n",
    "\n",
    "distances_df = 1 - distances_df\n",
    "\n",
    "lower_tri_df = distances_df.where(np.tril(np.ones(distances_df.shape)).astype(bool))\n",
    "\n",
    "lower_tri_lists = [[value for value in row if not isnan(value)] for row in lower_tri_df.values.tolist()]\n",
    "\n",
    "test_matrix = DistanceMatrix(names=distances_df.index.values.tolist(),matrix=lower_tri_lists)\n",
    "\n",
    "constructor = DistanceTreeConstructor()\n",
    "tree = constructor.upgma(test_matrix)\n",
    "\n",
    "# Phylo.draw(tree)\n",
    "Phylo.write(tree, 'tree.tree', 'newick')\n"
   ]
  }
 ],
 "metadata": {
  "kernelspec": {
   "display_name": "dev",
   "language": "python",
   "name": "python3"
  },
  "language_info": {
   "name": "python",
   "version": "3.10.8"
  }
 },
 "nbformat": 4,
 "nbformat_minor": 2
}
