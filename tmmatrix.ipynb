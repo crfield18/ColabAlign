{
  "cells": [
    {
      "cell_type": "code",
      "execution_count": null,
      "metadata": {
        "cellView": "form",
        "colab": {
          "base_uri": "https://localhost:8080/",
          "height": 783
        },
        "id": "IfxTd5U3gVUu",
        "outputId": "75d27ba8-edfb-4de6-cd2e-217cca6c8c3c"
      },
      "outputs": [],
      "source": [
        "# @title Upload PDB/mmCIF files\n",
        "\n",
        "# @markdown Alternatively, click the folder icon on the left, `right click` > `New Folder` and name it _models_ (all lower case), then drag and drop your PDB/mmCIF files into the _models folder_.\n",
        "\n",
        "from pathlib import Path\n",
        "from google.colab import files\n",
        "\n",
        "# Upload PDB/mmCIF files\n",
        "uploaded = files.upload()\n",
        "\n",
        "# Make results and models directories\n",
        "!mkdir results models\n",
        "\n",
        "# Move PDB and mmCIF files to the models directory (silently)\n",
        "!mv *.pdb models/ 2>/dev/null\n",
        "!mv *.cif models/ 2>/dev/null\n"
      ]
    },
    {
      "cell_type": "code",
      "execution_count": null,
      "metadata": {
        "colab": {
          "base_uri": "https://localhost:8080/"
        },
        "id": "EH5EL5Rhoh6C",
        "outputId": "9d069231-4ecc-495f-dbbb-ae31412ed564"
      },
      "outputs": [],
      "source": [
        "# @title How many calculations?\n",
        "\n",
        "%%script bash\n",
        "\n",
        "count=$(find models/ -type f | wc -l)\n",
        "\n",
        "result=$((($count * ($count - 1)) / 2))\n",
        "\n",
        "echo \"There are ${count} files in the models directory. This means ${result} total calculations.\""
      ]
    },
    {
      "cell_type": "code",
      "execution_count": null,
      "metadata": {
        "cellView": "form",
        "colab": {
          "base_uri": "https://localhost:8080/"
        },
        "id": "e8POztA5W7Qa",
        "outputId": "63c87c33-5edb-42ac-e8bd-ec1735c738bf"
      },
      "outputs": [],
      "source": [
        "# @title Download and Compile the latest version of TM-align, Biopython and pandas\n",
        "\n",
        "%%script bash\n",
        "\n",
        "# Download Biopython and pandas\n",
        "pip install biopython pandas\n",
        "\n",
        "# Download an up-to-date copy of TMalign/USalign\n",
        "git clone https://github.com/pylelab/USalign.git\n",
        "\n",
        "# Compile TMalign\n",
        "g++ -static -O3 -ffast-math -lm -o TMalign USalign/TMalign.cpp"
      ]
    },
    {
      "cell_type": "code",
      "execution_count": null,
      "metadata": {
        "colab": {
          "base_uri": "https://localhost:8080/"
        },
        "id": "FGAXnC9jXR6P",
        "outputId": "24f8077b-d5ad-459b-a3c3-28095252d9f4"
      },
      "outputs": [],
      "source": [
        "# @title Run pairwise TM-align calculations\n",
        "\n",
        "%%script bash\n",
        "\n",
        "# Make a list of all PDB and mmCIF files in the models directory and write to model_list.txt in the results directory\n",
        "find models/ -maxdepth 1 \\( -name \"*.pdb\" -o -name \"*.cif\" \\) -printf \"%f\\n\" > results/model_list.txt\n",
        "\n",
        "# Run pairwise TM-align calculations\n",
        "\n",
        "# ./TMalign -h\n",
        "\n",
        "./TMalign -dir /content/models/ /content/results/model_list.txt -outfmt 2 | tee results/tmalign_out.tsv # Print TM-align output to stdout (for debugging)\n",
        "\n",
        "# ./TMalign -dir /content/models/ /content/results/model_list.txt -outfmt 2 > results/tmalign_out.tsv #"
      ]
    },
    {
      "cell_type": "code",
      "execution_count": null,
      "metadata": {
        "colab": {
          "base_uri": "https://localhost:8080/"
        },
        "id": "R7_g8hoBxOdO",
        "outputId": "bf11513a-90cf-469b-d30d-6e8e3691e065"
      },
      "outputs": [],
      "source": [
        "# @title Make phylogenetic tree from TM-align results\n",
        "\n",
        "from math import isnan\n",
        "from pathlib import Path\n",
        "import pandas as pd\n",
        "import numpy as np\n",
        "\n",
        "from Bio import Phylo\n",
        "from Bio.Phylo.TreeConstruction import DistanceTreeConstructor, DistanceMatrix\n",
        "\n",
        "class TMmatrix():\n",
        "  def __init__(self) -> None:\n",
        "    # Set home, models and results paths\n",
        "    self.home_path = Path.cwd()\n",
        "    self.models_path = self.home_path.joinpath('models')\n",
        "    self.results_path = self.home_path.joinpath('results')\n",
        "\n",
        "    # Initialise self.tmmatrix as nothing\n",
        "    self.tmmatrix = None\n",
        "    \n",
        "    # Get model list from results/model_list.txt\n",
        "    with open(self.results_path.joinpath('model_list.txt'), 'r') as model_list_file:\n",
        "      self.model_list = [line.strip('\\n') for line in model_list_file]\n",
        "  \n",
        "  def tmalign_output_to_matrix(self):\n",
        "    # Load tmalign_out.tsv into self.tmalign_output\n",
        "    tmalign_output = pd.read_csv(self.results_path.joinpath('tmalign_out.tsv'), sep='\\t')\n",
        "\n",
        "    # make new df with model list as column and rows\n",
        "    self.tmmatrix = pd.DataFrame(index=self.model_list, columns=self.model_list)\n",
        "\n",
        "    # populate from output df with the highest TM-align score for each pair\n",
        "    for index, row in tmalign_output.iterrows():\n",
        "      if row['#PDBchain1'].startswith('#'):\n",
        "        continue\n",
        "      else:\n",
        "        max_tm = max(row['TM1'], row['TM2'])\n",
        "\n",
        "        self.tmmatrix.at[row['#PDBchain1'], row['PDBchain2']] = max_tm\n",
        "        self.tmmatrix.at[row['PDBchain2'], row['#PDBchain1']] = max_tm\n",
        "\n",
        "    # Fill the diagonal with scores of 1.0 (equivalent to aligning a model to itself)\n",
        "    for obj in self.model_list:\n",
        "      self.tmmatrix.at[obj,obj] = 1.0\n",
        "\n",
        "    return self.tmmatrix\n",
        "\n",
        "  def make_tree_from_matrix(self):\n",
        "    # Invert TM-align scores\n",
        "    # More similar pairs of models (i.e., higher scores) have shorter distances to each other\n",
        "    if self.tmmatrix.empty:\n",
        "      distances_df = 1 - self.tmmatrix\n",
        "\n",
        "    # Convert the scores matrix to a lower triangle matrix\n",
        "    lower_tri_df = distances_df.where(np.tril(np.ones(distances_df.shape)).astype(bool))\n",
        "    lower_tri_lists = [[value for value in row if not isnan(value)] for row in lower_tri_df.values.tolist()]\n",
        "\n",
        "    # Generate phylogenetic tree using the UPGMA clustering method\n",
        "    tm_matrix = DistanceMatrix(names=self.model_list, matrix=lower_tri_lists)\n",
        "    constructor = DistanceTreeConstructor()\n",
        "    tree = constructor.upgma(tm_matrix)\n",
        "        \n",
        "    print('\\n')\n",
        "\n",
        "    # # Draw the tree for quick validation\n",
        "    # # Only label terminal nodes\n",
        "    # def no_internal_labels(node):\n",
        "    #   if node.is_terminal():\n",
        "    #     return node.name\n",
        "    #   else:\n",
        "    #     return None\n",
        "\n",
        "    # Phylo.draw(tree, label_func=no_internal_labels)\n",
        "\n",
        "    # Draw tree in ASCII for quick validation\n",
        "    Phylo.draw_ascii(tree)\n",
        "\n",
        "    # Write the tree to results/tmmatrix.tree\n",
        "    Phylo.write(tree, self.results_path.joinpath('tmmatrix.tree'), 'newick')\n",
        "\n",
        "if __name__ == '__main__':\n",
        "  colab_instance = TMmatrix()\n",
        "  colab_instance.tmalign_output_to_matrix()\n",
        "  colab_instance.make_tree_from_matrix()"
      ]
    },
    {
      "cell_type": "code",
      "execution_count": null,
      "metadata": {},
      "outputs": [],
      "source": [
        "# @title Zip and download results\n",
        "\n",
        "from google.colab import files\n",
        "import zipfile\n",
        "\n",
        "results_path = Path.cwd().joinpath('results')\n",
        "zip_path = results_path.joinpath('results.zip')\n",
        "\n",
        "with zipfile.ZipFile(zip_path, 'w', zipfile.ZIP_DEFLATED) as zipf:\n",
        "    for file in results_path.rglob('*'):\n",
        "        if file.is_file() and file.name != 'results.zip':  # Add only files (not directories) to the ZIP archive\n",
        "            zipf.write(file, arcname=file.relative_to(results_path))\n",
        "\n",
        "files.download(zip_path)"
      ]
    }
  ],
  "metadata": {
    "colab": {
      "provenance": []
    },
    "kernelspec": {
      "display_name": "Python 3",
      "name": "python3"
    },
    "language_info": {
      "name": "python"
    }
  },
  "nbformat": 4,
  "nbformat_minor": 0
}
